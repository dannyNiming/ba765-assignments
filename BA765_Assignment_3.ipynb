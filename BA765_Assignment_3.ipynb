{
  "nbformat": 4,
  "nbformat_minor": 0,
  "metadata": {
    "colab": {
      "name": "BA765_Assignment_3.ipynb",
      "provenance": [],
      "include_colab_link": true
    },
    "kernelspec": {
      "name": "python3",
      "display_name": "Python 3"
    },
    "language_info": {
      "name": "python"
    }
  },
  "cells": [
    {
      "cell_type": "markdown",
      "metadata": {
        "id": "view-in-github",
        "colab_type": "text"
      },
      "source": [
        "<a href=\"https://colab.research.google.com/github/dannyNiming/ba765-assignments/blob/main/BA765_Assignment_3.ipynb\" target=\"_parent\"><img src=\"https://colab.research.google.com/assets/colab-badge.svg\" alt=\"Open In Colab\"/></a>"
      ]
    },
    {
      "cell_type": "markdown",
      "metadata": {
        "id": "4oc2lNgYCHAw"
      },
      "source": [
        "# Assignment 3\n",
        "\n",
        "Please read the instructions below carefully and if you have any questions, ask as soon as possible.\n",
        "\n",
        "Once you completed this assignment, upload the notebook to your GitHub repository (same one that you used for assignment 1) and export your work also as a3.py (with this name and format) and submit to QuestromTools course site.\n",
        "\n",
        "Scripts that do not execute correctly will not be graded. To make sure your submission can be successfully executed, try executing it on your local machine **as a script** before submission, e.g. with `python3 a3.py` or via your favorite IDE."
      ]
    },
    {
      "cell_type": "markdown",
      "metadata": {
        "id": "32upflRAB_cE"
      },
      "source": [
        "## The Business Problem:\n",
        "\n",
        "The newly constructed Encore Casino in Boston Harbor is evaluating the creation of a new table game involving dice.\n",
        "\n",
        "- The roll of a dice occurs a minimum of two times, but per the rules of the game, could require an additional 3rd roll.\n",
        "\n",
        "- A dice is defined as an entity that when rolled, it will return a single value between 1 and 6, often referred to as the face value.\n",
        "\n",
        "- The face values of 1,2,3,4,5,6 are all equally likely.\n",
        "\n",
        "The casino has found that the typical user joins a table with 10 credits, and are planning on charging a single credit for a play of the game.  \n",
        "\n",
        "Only one player can be at the table at a time.  \n",
        "\n",
        "They hired your analytics firm to better understand the risk of the proposed idea.\n",
        "\n",
        "The Rules:\n",
        "\n",
        "1. A game is initiated by rolling a dice, two seperate times, and recording the Grand Total, which is the sum of the first and second rolls.\n",
        "\n",
        "1. If the Grand Total after two rolls of the dice is less than or equal to 9, the dice **must be** rolled one more time, with the face value recorded and added to the Grand Total.\n",
        "\n",
        "1. If the Grand Total after two rolls of the dice is greater than 10, no more rolls of the dice will take place.\n",
        "\n",
        "1. In the event that the Grand Total is equal to 10, a 3rd roll can  conditionally take place based on player's decision. The business asks you to model player decision by a random process so that on average 90% of the time players choose a third roll. If a third roll takes place, add the face value of the roll to the Grand Total. Consequently, on average 10% of the time player model chooses not to roll, so the Grand Total is taken from the previous two rolls of the dice.\n",
        "\n",
        "Once the game has concluded, the proposed payout structure is as follows:\n",
        "\n",
        "- A Grand Total of 9 or less results in a loss for the user.  That is, no payout.\n",
        "- A Grand Total of 10 or 12 pays out 1 credit\n",
        "- A Grand Total of 13 pays out 2 credits\n",
        "- A Grand Total of 11, 14 or 15 results in a loss for the user.  That is, no payout.\n",
        "- A Grand Total of 16 pays out 5 credits\n",
        "\n",
        "The user must leave the table under one of two conditions:\n",
        "\n",
        "1.  They run out of credits\n",
        "1.  They have played the game 25 times.  \n",
        "\n",
        "\n",
        "Your Exercise:\n",
        "\n",
        "Create a class called `dice_game` and save your work in a python script (not a notebook!) called `a3.py`.\n",
        "\n",
        "Your class will allow the Casino to study the gameplay and assess its risk.\n",
        "\n",
        "Your class should have the following attributes:\n",
        "\n",
        "1. `players` which is an integer.  By default, this value should be 50 and internally represents the number of players the casino believes will play in a given day.\n",
        "\n",
        "2. `wallet` which is a list.  Each entry in `wallet` should itemize the player's final credits after attempting to play the dice game above.  A value of 0 represents they ran out of money, otherwise, the total credits remaining after 25 rounds of the game. By default, this list is empty.\n",
        "\n",
        "2.  `games_played` which is a list.  Each entry should itemize how many plays of the game occurred for a player sitting down at the table.  The maximum value for any entry in the list must be 25 (for maximum games played).  By default, this list is empty.\n",
        "\n",
        "Your class should have the following methods:\n",
        "\n",
        "1.  `simulate` which will simulate a session at the table for a number of players.  The number of players is defined by `players` attribute described above.\n",
        "1.  `avg_rounds` which will return an integer indicating the average rounds at the table for all `players`\n",
        "1.  `profit` which will return an integer indicating the net number of credits the Casino can expect to make or lose across the simulation of the game for all `players`"
      ]
    },
    {
      "cell_type": "code",
      "metadata": {
        "id": "38fZQg7vFS_8"
      },
      "source": [
        "import numpy as np\n",
        "import random\n",
        "import matplotlib.pyplot as plt\n",
        "import scipy\n",
        "from scipy import stats\n",
        "\n",
        "class dice_game():\n",
        "  def __init__(self,players=50):\n",
        "    self.players=players\n",
        "    self.wallet=[]\n",
        "    self.games_played=[]\n",
        "\n",
        "  def simulate(self):\n",
        "    if self.games_played==[]:#check if it's the first round\n",
        "     self.wallet=[10]*self.players\n",
        "     self.games_played=[0]*self.players\n",
        "    i=0\n",
        "    while i<self.players:   #The ith guest\n",
        "     if self.wallet[i]==0:\n",
        "       i+=1\n",
        "       pass\n",
        "     else:\n",
        "       self.wallet[i]-=1\n",
        "       first_row=np.random.randint(2,12)\n",
        "       total=0\n",
        "       if first_row==10:\n",
        "         third_prob = .9\n",
        "         decision=np.random.choice([1,0], size=1, p=[third_prob, 1-third_prob])\n",
        "         if decision==1:\n",
        "           second_row=np.random.randint(1,6)\n",
        "           total=first_row+second_row\n",
        "         else:\n",
        "           pass\n",
        "       elif first_row<10:\n",
        "         second_row=np.random.randint(1,6)\n",
        "         total=first_row+second_row\n",
        "       else:\n",
        "         total=first_row\n",
        "       if (total<=9 or total==11 or total==15):\n",
        "         self.wallet[i]+=0\n",
        "         \n",
        "       elif (total==10 or total==12):\n",
        "         self.wallet[i]+=1\n",
        "         \n",
        "       elif (total==13):\n",
        "         self.wallet[i]+=2\n",
        "         \n",
        "       else:\n",
        "         self.wallet[i]+=5\n",
        "       self.games_played[i]+=1\n",
        "       i+=1\n",
        "       #print('第{}个客人'.format(i))\n",
        "    return (self.wallet,self.games_played)\n",
        "\n",
        "  def avg_rounds(self):\n",
        "    total_round=0\n",
        "    for i in self.games_played:\n",
        "     total_round+=i\n",
        "    avg_r=total_round/len(self.games_played)\n",
        "    return avg_r\n",
        "  def profit(self):\n",
        "    begin_credit=self.players*10\n",
        "    end_credit=0\n",
        "    \n",
        "    for i in self.wallet:\n",
        "      end_credit+=i\n",
        "    print(self.games_played)\n",
        "    return begin_credit-end_credit\n"
      ],
      "execution_count": 1,
      "outputs": []
    },
    {
      "cell_type": "code",
      "metadata": {
        "id": "rIp4htQzGDuj",
        "outputId": "67ac1d3e-f7bb-40c3-c6c9-1151447ee555",
        "colab": {
          "base_uri": "https://localhost:8080/"
        }
      },
      "source": [
        "r1=dice_game()\n",
        "r1.simulate()\n",
        "print(r1.avg_rounds())"
      ],
      "execution_count": 5,
      "outputs": [
        {
          "output_type": "stream",
          "text": [
            "1.0\n"
          ],
          "name": "stdout"
        }
      ]
    },
    {
      "cell_type": "code",
      "metadata": {
        "id": "ku3e7J5CGH38",
        "outputId": "497e1ab4-4e17-4199-a641-40b3ecd4d54d",
        "colab": {
          "base_uri": "https://localhost:8080/"
        }
      },
      "source": [
        "r2=dice_game()\n",
        "for i in range(0,26):\n",
        "  r2.simulate()\n",
        "r2.profit()\n",
        "r2.avg_rounds()"
      ],
      "execution_count": 6,
      "outputs": [
        {
          "output_type": "stream",
          "text": [
            "[11, 18, 14, 19, 11, 19, 26, 14, 16, 16, 14, 13, 22, 14, 23, 17, 11, 19, 17, 24, 14, 10, 13, 12, 20, 17, 24, 13, 16, 19, 13, 16, 26, 26, 14, 18, 18, 13, 26, 10, 21, 26, 10, 12, 10, 15, 14, 20, 17, 26]\n"
          ],
          "name": "stdout"
        },
        {
          "output_type": "execute_result",
          "data": {
            "text/plain": [
              "16.94"
            ]
          },
          "metadata": {
            "tags": []
          },
          "execution_count": 6
        }
      ]
    }
  ]
}